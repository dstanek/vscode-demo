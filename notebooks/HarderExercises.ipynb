{
 "cells": [
  {
   "cell_type": "markdown",
   "metadata": {
    "colab_type": "text",
    "id": "S8byBH2qiiUT"
   },
   "source": [
    "# Extra Function Exercises\n",
    "\n",
    "## Find the largest depositor\n",
    "\n",
    "There are two functions that you are required to implement. For the details take a look at the code and tests below."
   ]
  },
  {
   "cell_type": "code",
   "execution_count": null,
   "metadata": {
    "colab": {},
    "colab_type": "code",
    "deletable": false,
    "id": "t8OoBJBliiUh",
    "nbgrader": {
     "cell_type": "code",
     "checksum": "bd116b5f67f64df8186212b8160c2865",
     "grade": false,
     "grade_id": "cell-962f306c6dc1a36c",
     "locked": false,
     "schema_version": 3,
     "solution": true,
     "task": false
    },
    "outputId": "d41097f5-b55b-452f-f5e7-1a08cb155410"
   },
   "outputs": [],
   "source": [
    "deposits = [\n",
    "    {\"name\": \"Fred\", \"amount\": 10},\n",
    "    {\"name\": \"Fred\", \"amount\": 22},\n",
    "    {\"name\": \"Wilma\", \"amount\": 18},\n",
    "    {\"name\": \"Fred\", \"amount\": 10},\n",
    "    {\"name\": \"Shaggy\", \"amount\": 41},\n",
    "    {\"name\": \"Fred\", \"amount\": 8},  \n",
    "]\n",
    "\n",
    "def summary(data):\n",
    "    # The data is a list of dictionaries containing deposits. This\n",
    "    # function will return a dictionary where key is the name of\n",
    "    # the depositor and the value is sum of all of their deposits.\n",
    "    summary = {}\n",
    "    # YOUR CODE HERE\n",
    "    raise NotImplementedError()\n",
    "    return summary\n",
    "\n",
    "# print(summary(deposits))\n",
    "# {'Fred': 50, 'Wilma': 18, 'Shaggy': 41}\n",
    "\n",
    "def highest(data):\n",
    "    highest = None\n",
    "    # YOUR CODE HERE\n",
    "    raise NotImplementedError()\n",
    "    return highest"
   ]
  },
  {
   "cell_type": "code",
   "execution_count": null,
   "metadata": {
    "colab": {},
    "colab_type": "code",
    "deletable": false,
    "editable": false,
    "id": "yIrUQfvkiiVI",
    "nbgrader": {
     "cell_type": "code",
     "checksum": "2b3b59b14ca6f3db5c48298667323e3a",
     "grade": true,
     "grade_id": "cell-100717b5b6366d12",
     "locked": true,
     "points": 4,
     "schema_version": 3,
     "solution": false,
     "task": false
    }
   },
   "outputs": [],
   "source": [
    "#\n",
    "# DO NOT EDIT THIS BLOCK\n",
    "#\n",
    "\n",
    "observed = highest(summary(deposits))\n",
    "expected = {'name': 'Fred', 'amount': 50}\n",
    "assert observed == expected, f\"\\nYou returned:\\n    {observed!r}\\ninstead of:\\n    {expected!r}\""
   ]
  },
  {
   "cell_type": "markdown",
   "metadata": {},
   "source": [
    "## Find the smallest depositor\n"
   ]
  },
  {
   "cell_type": "code",
   "execution_count": null,
   "metadata": {
    "deletable": false,
    "nbgrader": {
     "cell_type": "code",
     "checksum": "e4e1dd6ec35a1c239f021fd4c83e78b8",
     "grade": false,
     "grade_id": "cell-3b454ced2de5a22b",
     "locked": false,
     "schema_version": 3,
     "solution": true,
     "task": false
    }
   },
   "outputs": [],
   "source": [
    "# YOUR CODE HERE\n",
    "raise NotImplementedError()"
   ]
  },
  {
   "cell_type": "code",
   "execution_count": null,
   "metadata": {
    "deletable": false,
    "editable": false,
    "nbgrader": {
     "cell_type": "code",
     "checksum": "7091112f1b3312c585493209e9b85370",
     "grade": true,
     "grade_id": "cell-31b5ae684fe71e02",
     "locked": true,
     "points": 1,
     "schema_version": 3,
     "solution": false,
     "task": false
    }
   },
   "outputs": [],
   "source": [
    "#\n",
    "# DO NOT EDIT THIS BLOCK\n",
    "#\n",
    "\n",
    "observed = smallest(summary(deposits))\n",
    "expected = {\"name\": \"Wilma\", \"amount\": 18}\n",
    "assert observed == expected, f\"\\nYou returned:\\n    {observed!r}\\ninstead of:\\n    {expected!r}\""
   ]
  },
  {
   "cell_type": "markdown",
   "metadata": {
    "colab_type": "text",
    "id": "kJtBjHDeiiVY"
   },
   "source": [
    "## Expanding and string manipulation\n",
    "\n",
    "Is this exercise you must implement two functions. This time, however, one function will call the other. For details see the test below."
   ]
  },
  {
   "cell_type": "code",
   "execution_count": null,
   "metadata": {
    "colab": {},
    "colab_type": "code",
    "deletable": false,
    "id": "hic9JLYdiiVd",
    "nbgrader": {
     "cell_type": "code",
     "checksum": "473cbfc1a5d1548a7d1201a9430fe874",
     "grade": false,
     "grade_id": "cell-f12ad5e8a668bacc",
     "locked": false,
     "schema_version": 3,
     "solution": true,
     "task": false
    }
   },
   "outputs": [],
   "source": [
    "# expand_range()\n",
    "# YOUR CODE HERE\n",
    "raise NotImplementedError()\n",
    "\n",
    "# expand()\n",
    "# YOUR CODE HERE\n",
    "raise NotImplementedError()"
   ]
  },
  {
   "cell_type": "code",
   "execution_count": null,
   "metadata": {
    "colab": {},
    "colab_type": "code",
    "deletable": false,
    "editable": false,
    "id": "D4WFKVpZiiVt",
    "nbgrader": {
     "cell_type": "code",
     "checksum": "9b78dad467ebd154a49a55d2579cbacd",
     "grade": true,
     "grade_id": "cell-7b6f2c2718258bb4",
     "locked": true,
     "points": 5,
     "schema_version": 3,
     "solution": false,
     "task": false
    }
   },
   "outputs": [],
   "source": [
    "#\n",
    "# DO NOT EDIT THIS BLOCK\n",
    "#\n",
    "\n",
    "# Test the expand_range function\n",
    "observed = expand_range(\"name\", \"1-5\")\n",
    "expected = \"name1,name2,name3,name4,name5\"\n",
    "assert observed == expected, f\"\\nYou returned:\\n    {observed!r}\\ninstead of:\\n    {expected!r}\"\n",
    "\n",
    "observed = expand(\"name[1,2,3]\")\n",
    "expected = \"name1,name2,name3\"\n",
    "assert observed == expected, f\"\\nYou returned:\\n    {observed!r}\\ninstead of:\\n    {expected!r}\"\n",
    "\n",
    "observed = expand(\"name[1,2,4-6]\")\n",
    "expected = \"name1,name2,name4,name5,name6\"\n",
    "assert observed == expected, f\"\\nYou returned:\\n    {observed!r}\\ninstead of:\\n    {expected!r}\""
   ]
  }
 ],
 "metadata": {
  "colab": {
   "name": "HarderFunctionExercises-Completed.ipynb",
   "provenance": []
  },
  "kernelspec": {
   "display_name": "Python 3 (ipykernel)",
   "language": "python",
   "name": "python3"
  },
  "language_info": {
   "codemirror_mode": {
    "name": "ipython",
    "version": 3
   },
   "file_extension": ".py",
   "mimetype": "text/x-python",
   "name": "python",
   "nbconvert_exporter": "python",
   "pygments_lexer": "ipython3",
   "version": "3.10.9"
  }
 },
 "nbformat": 4,
 "nbformat_minor": 1
}
